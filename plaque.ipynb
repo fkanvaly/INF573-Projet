{
 "cells": [
  {
   "cell_type": "code",
   "execution_count": 37,
   "metadata": {
    "collapsed": true
   },
   "outputs": [],
   "source": [
    "import cv2\n",
    "import numpy as np\n",
    "import pytesseract\n",
    "import regex as re"
   ]
  },
  {
   "cell_type": "code",
   "execution_count": 12,
   "metadata": {
    "collapsed": true
   },
   "outputs": [],
   "source": [
    "%matplotlib inline\n",
    "#The line above is necesary to show Matplotlib's plots inside a Jupyter Notebook\n",
    "\n",
    "from matplotlib import pyplot as plt"
   ]
  },
  {
   "cell_type": "code",
   "execution_count": 34,
   "metadata": {
    "collapsed": true
   },
   "outputs": [],
   "source": [
    "\n",
    "pytesseract.pytesseract.tesseract_cmd = r'D:\\Program Files (x86)\\Tesseract-OCR\\tesseract.exe'"
   ]
  },
  {
   "cell_type": "code",
   "execution_count": 112,
   "metadata": {
    "collapsed": true
   },
   "outputs": [],
   "source": [
    "def preprocess(gray):\n",
    "    gaussian = cv2.GaussianBlur(gray, (3, 3), 0, 0, cv2.BORDER_DEFAULT)\n",
    "    median = cv2.medianBlur(gaussian, 5)\n",
    "    sobel = cv2.Sobel(median, cv2.CV_8U, 1, 0, ksize = 3)\n",
    "    ret, binary = cv2.threshold(sobel, 170, 255, cv2.THRESH_BINARY)\n",
    "    element1 = cv2.getStructuringElement(cv2.MORPH_RECT, (9, 1))\n",
    "    element2 = cv2.getStructuringElement(cv2.MORPH_RECT, (9, 7))\n",
    "    dilation = cv2.dilate(binary, element2, iterations = 1)\n",
    "    erosion = cv2.erode(dilation, element1, iterations = 1)\n",
    "    dilation2 = cv2.dilate(erosion, element2,iterations = 3)\n",
    "    plt.imshow(dilation2)\n",
    "    plt.show()\n",
    "    return dilation2\n"
   ]
  },
  {
   "cell_type": "code",
   "execution_count": 122,
   "metadata": {
    "collapsed": true
   },
   "outputs": [],
   "source": [
    "def findPlateNumberRegion(img):\n",
    "    region = []\n",
    "    contours,hierarchy = cv2.findContours(img, cv2.RETR_TREE, cv2.CHAIN_APPROX_SIMPLE)\n",
    "\n",
    "    for i in range(len(contours)):\n",
    "        cnt = contours[i]\n",
    "        area = cv2.contourArea(cnt)\n",
    "\n",
    "        if (area < 2000):\n",
    "            continue\n",
    "\n",
    "        epsilon = 0.001 * cv2.arcLength(cnt,True)\n",
    "        approx = cv2.approxPolyDP(cnt, epsilon, True)\n",
    "\n",
    "        rect = cv2.minAreaRect(cnt)\n",
    "        print (\"rect is: \")\n",
    "        print (rect)\n",
    "\n",
    "        box = cv2.boxPoints(rect)\n",
    "        box = np.int0(box)\n",
    "\n",
    "        height = abs(box[0][1] - box[2][1])\n",
    "        width = abs(box[0][0] - box[2][0])\n",
    "        print(height,width)\n",
    "        ratio =float(width) / float(height)\n",
    "        print (ratio)\n",
    "        if (ratio > 7 or ratio < 2.7):\n",
    "            continue\n",
    "        region.append(box)\n",
    "        print (\"rect is: \")\n",
    "        print (rect)\n",
    "        print (ratio)\n",
    "\n",
    "    return region"
   ]
  },
  {
   "cell_type": "code",
   "execution_count": 123,
   "metadata": {
    "collapsed": true
   },
   "outputs": [],
   "source": [
    "def detect(img):\n",
    "    gray = cv2.cvtColor(img, cv2.COLOR_BGR2GRAY)\n",
    "\n",
    "    dilation = preprocess(gray)\n",
    "\n",
    "    region = findPlateNumberRegion(dilation)\n",
    "    print(\"region\")\n",
    "    print(region)\n",
    "\n",
    "    for box in region:\n",
    "        cv2.drawContours(img, [box], 0, (0, 255, 0), 2)\n",
    "    ys = [box[0, 1], box[1, 1], box[2, 1], box[3, 1]]\n",
    "    xs = [box[0, 0], box[1, 0], box[2, 0], box[3, 0]]\n",
    "    ys_sorted_index = np.argsort(ys)\n",
    "    xs_sorted_index = np.argsort(xs)\n",
    "\n",
    "    x1 = box[xs_sorted_index[0], 0]\n",
    "    x2 = box[xs_sorted_index[3], 0]\n",
    "\n",
    "    y1 = box[ys_sorted_index[0], 1]\n",
    "    y2 = box[ys_sorted_index[3], 1]\n",
    "\n",
    "    img_org2 = img.copy()\n",
    "    img_plate = img_org2[y1:y2, x1:x2]\n",
    "    plt.imshow(img_plate)\n",
    "    plt.show()\n",
    "    cv2.imwrite('number_plate.jpg', img_plate)\n",
    "    \n",
    "    txt = pytesseract.image_to_string(img_plate,config='--psm 7')\n",
    "    print(txt)\n",
    "    if (txt != ''):\n",
    "        txt = ''.join(re.findall(r'(\\w+|-)',txt))\n",
    "        print(txt)\n",
    "\n",
    "    cv2.namedWindow('img', cv2.WINDOW_NORMAL)\n",
    "    cv2.imshow('img', img)\n",
    "\n",
    "    cv2.imwrite('contours.png', img)\n",
    "\n",
    "    cv2.waitKey(0)\n",
    "    cv2.destroyAllWindows()"
   ]
  },
  {
   "cell_type": "code",
   "execution_count": 124,
   "metadata": {},
   "outputs": [
    {
     "data": {
      "image/png": "[encoded data removed]",
      "text/plain": [
       "<Figure size 432x288 with 1 Axes>"
      ]
     },
     "metadata": {},
     "output_type": "display_data"
    },
    {
     "name": "stdout",
     "output_type": "stream",
     "text": [
      "rect is: \n",
      "((363.0, 364.5), (178.0, 61.0), -0.0)\n",
      "61 178\n",
      "2.918032786885246\n",
      "rect is: \n",
      "((363.0, 364.5), (178.0, 61.0), -0.0)\n",
      "2.918032786885246\n",
      "rect is: \n",
      "((254.0, 365.0), (26.0, 80.0), -0.0)\n",
      "80 26\n",
      "0.325\n",
      "rect is: \n",
      "((526.8280029296875, 253.38540649414062), (80.17366790771484, 87.2270736694336), -87.75425720214844)\n",
      "84 84\n",
      "1.0\n",
      "rect is: \n",
      "((346.5, 248.0), (82.0, 27.0), -90.0)\n",
      "82 27\n",
      "0.32926829268292684\n",
      "rect is: \n",
      "((180.58348083496094, 241.85504150390625), (38.894447326660156, 98.94953155517578), -9.865806579589844)\n",
      "104 22\n",
      "0.21153846153846154\n",
      "rect is: \n",
      "((146.0, 88.5), (60.0, 109.0), -0.0)\n",
      "109 60\n",
      "0.5504587155963303\n",
      "rect is: \n",
      "((197.5, 62.0), (25.0, 86.0), -0.0)\n",
      "86 25\n",
      "0.29069767441860467\n",
      "region\n",
      "[array([[274, 395],\n",
      "       [274, 334],\n",
      "       [452, 334],\n",
      "       [452, 395]], dtype=int64)]\n"
     ]
    },
    {
     "data": {
      "image/png": "[encoded data removed]",
      "text/plain": [
       "<Figure size 432x288 with 1 Axes>"
      ]
     },
     "metadata": {},
     "output_type": "display_data"
    },
    {
     "name": "stdout",
     "output_type": "stream",
     "text": [
      "\n"
     ]
    }
   ],
   "source": [
    "img = cv2.imread('test/3.jpg')\n",
    "height, width = img.shape[:2]\n",
    "alpha = 500/height\n",
    "img = cv2.resize(img, None, fx=alpha, fy=alpha, interpolation=cv2.INTER_AREA)\n",
    "\n",
    "detect(img)"
   ]
  },
  {
   "cell_type": "code",
   "execution_count": 125,
   "metadata": {},
   "outputs": [
    {
     "data": {
      "text/plain": [
       "'SOMoWH1206'"
      ]
     },
     "execution_count": 125,
     "metadata": {},
     "output_type": "execute_result"
    }
   ],
   "source": [
    "txt = 'SOMoWH1206'\n",
    "''.join(re.findall(r'(\\w+|-)',txt))"
   ]
  },
  {
   "cell_type": "code",
   "execution_count": null,
   "metadata": {
    "collapsed": true
   },
   "outputs": [],
   "source": []
  }
 ],
 "metadata": {
  "kernelspec": {
   "display_name": "Python 3",
   "language": "python",
   "name": "python3"
  },
  "language_info": {
   "codemirror_mode": {
    "name": "ipython",
    "version": 3
   },
   "file_extension": ".py",
   "mimetype": "text/x-python",
   "name": "python",
   "nbconvert_exporter": "python",
   "pygments_lexer": "ipython3",
   "version": "3.6.8"
  }
 },
 "nbformat": 4,
 "nbformat_minor": 2
}
